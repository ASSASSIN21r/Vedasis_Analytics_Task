{
 "cells": [
  {
   "cell_type": "code",
   "execution_count": 215,
   "id": "5ba15dee",
   "metadata": {},
   "outputs": [],
   "source": [
    "import pandas as pd\n",
    "import matplotlib.pyplot as plt"
   ]
  },
  {
   "cell_type": "markdown",
   "id": "2aa8d1c7",
   "metadata": {},
   "source": [
    "# Importing Dataset"
   ]
  },
  {
   "cell_type": "code",
   "execution_count": 152,
   "id": "9fb24871",
   "metadata": {},
   "outputs": [],
   "source": [
    "data = pd.DataFrame(pd.read_csv(\"skills_data.csv\"))"
   ]
  },
  {
   "cell_type": "code",
   "execution_count": 153,
   "id": "67cfae60",
   "metadata": {},
   "outputs": [],
   "source": [
    "df=data.copy()"
   ]
  },
  {
   "cell_type": "code",
   "execution_count": 154,
   "id": "3ba47b83",
   "metadata": {},
   "outputs": [
    {
     "data": {
      "text/html": [
       "<div>\n",
       "<style scoped>\n",
       "    .dataframe tbody tr th:only-of-type {\n",
       "        vertical-align: middle;\n",
       "    }\n",
       "\n",
       "    .dataframe tbody tr th {\n",
       "        vertical-align: top;\n",
       "    }\n",
       "\n",
       "    .dataframe thead th {\n",
       "        text-align: right;\n",
       "    }\n",
       "</style>\n",
       "<table border=\"1\" class=\"dataframe\">\n",
       "  <thead>\n",
       "    <tr style=\"text-align: right;\">\n",
       "      <th></th>\n",
       "      <th>username</th>\n",
       "      <th>job_titles</th>\n",
       "      <th>skills</th>\n",
       "    </tr>\n",
       "  </thead>\n",
       "  <tbody>\n",
       "    <tr>\n",
       "      <th>0</th>\n",
       "      <td>%D0%BC%CE%B1%CE%B7%D7%A0%CF%85%CE%B7%CE%B1%D1%...</td>\n",
       "      <td>[sr. sre,senior site reliability engineer,impl...</td>\n",
       "      <td>[data center architecture,vendor management,wi...</td>\n",
       "    </tr>\n",
       "    <tr>\n",
       "      <th>1</th>\n",
       "      <td>%E0%B2%A8%E0%B2%B5%E0%B3%80%E0%B2%A8%E0%B3%8D-...</td>\n",
       "      <td>[management trainee human resources,technical ...</td>\n",
       "      <td>[human resources,technical recruiting,strategi...</td>\n",
       "    </tr>\n",
       "    <tr>\n",
       "      <th>2</th>\n",
       "      <td>%E0%B2%AE%E0%B2%82%E0%B2%9C%E0%B3%81%E0%B2%A8%...</td>\n",
       "      <td>[deputy manager - hr]</td>\n",
       "      <td>[human resources (hr),hr policies,human resour...</td>\n",
       "    </tr>\n",
       "    <tr>\n",
       "      <th>3</th>\n",
       "      <td>%E2%97%8F%E0%B9%8B-%C2%A2%D0%BD%D1%94%D1%82%CE...</td>\n",
       "      <td>[sales manager,area manager,universal banker]</td>\n",
       "      <td>[banking,loans,retail banking,sales operations...</td>\n",
       "    </tr>\n",
       "    <tr>\n",
       "      <th>4</th>\n",
       "      <td>%E2%98%80%EF%B8%8Frohit-kumar-sharma-a1672a94</td>\n",
       "      <td>[software development engineer ,intern,intern,...</td>\n",
       "      <td>[mvc architecture,php,algorithms,software desi...</td>\n",
       "    </tr>\n",
       "    <tr>\n",
       "      <th>5</th>\n",
       "      <td>%E2%98%85romi-bhattacharjee%E2%98%85-47b4204</td>\n",
       "      <td>[manager - hr &amp; administration ,asstt. manager...</td>\n",
       "      <td>[human resources,vendor management,recruiting,...</td>\n",
       "    </tr>\n",
       "    <tr>\n",
       "      <th>6</th>\n",
       "      <td>-aditya-roy</td>\n",
       "      <td>[devops ii,devops ,devops engineer]</td>\n",
       "      <td>[continuous integration and continuous deliver...</td>\n",
       "    </tr>\n",
       "    <tr>\n",
       "      <th>7</th>\n",
       "      <td>-ashishsingh</td>\n",
       "      <td>[research and strategy intern,sales and relati...</td>\n",
       "      <td>[negotiation,soft skills,blogging,sales &amp; mark...</td>\n",
       "    </tr>\n",
       "    <tr>\n",
       "      <th>8</th>\n",
       "      <td>-ayush</td>\n",
       "      <td>[sde ii,systems engineer,principal, engineering]</td>\n",
       "      <td>[node.js,react.js,css,angularjs,mongodb,postgr...</td>\n",
       "    </tr>\n",
       "    <tr>\n",
       "      <th>9</th>\n",
       "      <td>-dhruvkhanna</td>\n",
       "      <td>[assistant key account manager,assistant chef,...</td>\n",
       "      <td>[microsoft excel,microsoft office,social media...</td>\n",
       "    </tr>\n",
       "  </tbody>\n",
       "</table>\n",
       "</div>"
      ],
      "text/plain": [
       "                                            username  \\\n",
       "0  %D0%BC%CE%B1%CE%B7%D7%A0%CF%85%CE%B7%CE%B1%D1%...   \n",
       "1  %E0%B2%A8%E0%B2%B5%E0%B3%80%E0%B2%A8%E0%B3%8D-...   \n",
       "2  %E0%B2%AE%E0%B2%82%E0%B2%9C%E0%B3%81%E0%B2%A8%...   \n",
       "3  %E2%97%8F%E0%B9%8B-%C2%A2%D0%BD%D1%94%D1%82%CE...   \n",
       "4      %E2%98%80%EF%B8%8Frohit-kumar-sharma-a1672a94   \n",
       "5       %E2%98%85romi-bhattacharjee%E2%98%85-47b4204   \n",
       "6                                        -aditya-roy   \n",
       "7                                       -ashishsingh   \n",
       "8                                             -ayush   \n",
       "9                                       -dhruvkhanna   \n",
       "\n",
       "                                          job_titles  \\\n",
       "0  [sr. sre,senior site reliability engineer,impl...   \n",
       "1  [management trainee human resources,technical ...   \n",
       "2                              [deputy manager - hr]   \n",
       "3      [sales manager,area manager,universal banker]   \n",
       "4  [software development engineer ,intern,intern,...   \n",
       "5  [manager - hr & administration ,asstt. manager...   \n",
       "6                [devops ii,devops ,devops engineer]   \n",
       "7  [research and strategy intern,sales and relati...   \n",
       "8   [sde ii,systems engineer,principal, engineering]   \n",
       "9  [assistant key account manager,assistant chef,...   \n",
       "\n",
       "                                              skills  \n",
       "0  [data center architecture,vendor management,wi...  \n",
       "1  [human resources,technical recruiting,strategi...  \n",
       "2  [human resources (hr),hr policies,human resour...  \n",
       "3  [banking,loans,retail banking,sales operations...  \n",
       "4  [mvc architecture,php,algorithms,software desi...  \n",
       "5  [human resources,vendor management,recruiting,...  \n",
       "6  [continuous integration and continuous deliver...  \n",
       "7  [negotiation,soft skills,blogging,sales & mark...  \n",
       "8  [node.js,react.js,css,angularjs,mongodb,postgr...  \n",
       "9  [microsoft excel,microsoft office,social media...  "
      ]
     },
     "execution_count": 154,
     "metadata": {},
     "output_type": "execute_result"
    }
   ],
   "source": [
    "df.head(10)"
   ]
  },
  {
   "cell_type": "code",
   "execution_count": 231,
   "id": "edd19e55",
   "metadata": {},
   "outputs": [
    {
     "data": {
      "text/plain": [
       "(1000, 2)"
      ]
     },
     "execution_count": 231,
     "metadata": {},
     "output_type": "execute_result"
    }
   ],
   "source": [
    "df.shape"
   ]
  },
  {
   "cell_type": "code",
   "execution_count": 155,
   "id": "e8482685",
   "metadata": {},
   "outputs": [],
   "source": [
    "df=df.drop(\"username\",axis=1)"
   ]
  },
  {
   "cell_type": "code",
   "execution_count": 156,
   "id": "4d0e0588",
   "metadata": {},
   "outputs": [
    {
     "data": {
      "text/html": [
       "<div>\n",
       "<style scoped>\n",
       "    .dataframe tbody tr th:only-of-type {\n",
       "        vertical-align: middle;\n",
       "    }\n",
       "\n",
       "    .dataframe tbody tr th {\n",
       "        vertical-align: top;\n",
       "    }\n",
       "\n",
       "    .dataframe thead th {\n",
       "        text-align: right;\n",
       "    }\n",
       "</style>\n",
       "<table border=\"1\" class=\"dataframe\">\n",
       "  <thead>\n",
       "    <tr style=\"text-align: right;\">\n",
       "      <th></th>\n",
       "      <th>job_titles</th>\n",
       "      <th>skills</th>\n",
       "    </tr>\n",
       "  </thead>\n",
       "  <tbody>\n",
       "    <tr>\n",
       "      <th>0</th>\n",
       "      <td>[sr. sre,senior site reliability engineer,impl...</td>\n",
       "      <td>[data center architecture,vendor management,wi...</td>\n",
       "    </tr>\n",
       "    <tr>\n",
       "      <th>1</th>\n",
       "      <td>[management trainee human resources,technical ...</td>\n",
       "      <td>[human resources,technical recruiting,strategi...</td>\n",
       "    </tr>\n",
       "    <tr>\n",
       "      <th>2</th>\n",
       "      <td>[deputy manager - hr]</td>\n",
       "      <td>[human resources (hr),hr policies,human resour...</td>\n",
       "    </tr>\n",
       "    <tr>\n",
       "      <th>3</th>\n",
       "      <td>[sales manager,area manager,universal banker]</td>\n",
       "      <td>[banking,loans,retail banking,sales operations...</td>\n",
       "    </tr>\n",
       "    <tr>\n",
       "      <th>4</th>\n",
       "      <td>[software development engineer ,intern,intern,...</td>\n",
       "      <td>[mvc architecture,php,algorithms,software desi...</td>\n",
       "    </tr>\n",
       "    <tr>\n",
       "      <th>5</th>\n",
       "      <td>[manager - hr &amp; administration ,asstt. manager...</td>\n",
       "      <td>[human resources,vendor management,recruiting,...</td>\n",
       "    </tr>\n",
       "    <tr>\n",
       "      <th>6</th>\n",
       "      <td>[devops ii,devops ,devops engineer]</td>\n",
       "      <td>[continuous integration and continuous deliver...</td>\n",
       "    </tr>\n",
       "    <tr>\n",
       "      <th>7</th>\n",
       "      <td>[research and strategy intern,sales and relati...</td>\n",
       "      <td>[negotiation,soft skills,blogging,sales &amp; mark...</td>\n",
       "    </tr>\n",
       "    <tr>\n",
       "      <th>8</th>\n",
       "      <td>[sde ii,systems engineer,principal, engineering]</td>\n",
       "      <td>[node.js,react.js,css,angularjs,mongodb,postgr...</td>\n",
       "    </tr>\n",
       "    <tr>\n",
       "      <th>9</th>\n",
       "      <td>[assistant key account manager,assistant chef,...</td>\n",
       "      <td>[microsoft excel,microsoft office,social media...</td>\n",
       "    </tr>\n",
       "    <tr>\n",
       "      <th>10</th>\n",
       "      <td>[product lead,senior product manager,industry ...</td>\n",
       "      <td>[product management,analytics,start-ups,teamwo...</td>\n",
       "    </tr>\n",
       "    <tr>\n",
       "      <th>11</th>\n",
       "      <td>[cxo - revenue &amp; corp. dev.,director,digital g...</td>\n",
       "      <td>[business management,business process improvem...</td>\n",
       "    </tr>\n",
       "    <tr>\n",
       "      <th>12</th>\n",
       "      <td>[data analyst,freelance writer,analytics intern]</td>\n",
       "      <td>[graphic design,machine learning,data visualiz...</td>\n",
       "    </tr>\n",
       "    <tr>\n",
       "      <th>13</th>\n",
       "      <td>[senior manager,engineering leader,founder,sen...</td>\n",
       "      <td>[technical project management,engineering mana...</td>\n",
       "    </tr>\n",
       "    <tr>\n",
       "      <th>14</th>\n",
       "      <td>[business development intern,subject matter ex...</td>\n",
       "      <td>[engineering,industrial engineering,volunteeri...</td>\n",
       "    </tr>\n",
       "    <tr>\n",
       "      <th>15</th>\n",
       "      <td>[deputy manager - product strategy and plannin...</td>\n",
       "      <td>[microsoft office,microsoft excel,microsoft po...</td>\n",
       "    </tr>\n",
       "    <tr>\n",
       "      <th>16</th>\n",
       "      <td>[digital marketing intern,business analyst - m...</td>\n",
       "      <td>[google analytics,enterprise resource planning...</td>\n",
       "    </tr>\n",
       "    <tr>\n",
       "      <th>17</th>\n",
       "      <td>[sales executive,sales analyst]</td>\n",
       "      <td>[sales management,conferences,sales process,cu...</td>\n",
       "    </tr>\n",
       "    <tr>\n",
       "      <th>18</th>\n",
       "      <td>[back-end developer,system software engineer]</td>\n",
       "      <td>[node.js,mongodb,amazon web services (aws),obj...</td>\n",
       "    </tr>\n",
       "    <tr>\n",
       "      <th>19</th>\n",
       "      <td>[market risk analyst,head of nucleus, phoenix ...</td>\n",
       "      <td>[financial analysis,financial accounting,risk ...</td>\n",
       "    </tr>\n",
       "  </tbody>\n",
       "</table>\n",
       "</div>"
      ],
      "text/plain": [
       "                                           job_titles  \\\n",
       "0   [sr. sre,senior site reliability engineer,impl...   \n",
       "1   [management trainee human resources,technical ...   \n",
       "2                               [deputy manager - hr]   \n",
       "3       [sales manager,area manager,universal banker]   \n",
       "4   [software development engineer ,intern,intern,...   \n",
       "5   [manager - hr & administration ,asstt. manager...   \n",
       "6                 [devops ii,devops ,devops engineer]   \n",
       "7   [research and strategy intern,sales and relati...   \n",
       "8    [sde ii,systems engineer,principal, engineering]   \n",
       "9   [assistant key account manager,assistant chef,...   \n",
       "10  [product lead,senior product manager,industry ...   \n",
       "11  [cxo - revenue & corp. dev.,director,digital g...   \n",
       "12   [data analyst,freelance writer,analytics intern]   \n",
       "13  [senior manager,engineering leader,founder,sen...   \n",
       "14  [business development intern,subject matter ex...   \n",
       "15  [deputy manager - product strategy and plannin...   \n",
       "16  [digital marketing intern,business analyst - m...   \n",
       "17                    [sales executive,sales analyst]   \n",
       "18      [back-end developer,system software engineer]   \n",
       "19  [market risk analyst,head of nucleus, phoenix ...   \n",
       "\n",
       "                                               skills  \n",
       "0   [data center architecture,vendor management,wi...  \n",
       "1   [human resources,technical recruiting,strategi...  \n",
       "2   [human resources (hr),hr policies,human resour...  \n",
       "3   [banking,loans,retail banking,sales operations...  \n",
       "4   [mvc architecture,php,algorithms,software desi...  \n",
       "5   [human resources,vendor management,recruiting,...  \n",
       "6   [continuous integration and continuous deliver...  \n",
       "7   [negotiation,soft skills,blogging,sales & mark...  \n",
       "8   [node.js,react.js,css,angularjs,mongodb,postgr...  \n",
       "9   [microsoft excel,microsoft office,social media...  \n",
       "10  [product management,analytics,start-ups,teamwo...  \n",
       "11  [business management,business process improvem...  \n",
       "12  [graphic design,machine learning,data visualiz...  \n",
       "13  [technical project management,engineering mana...  \n",
       "14  [engineering,industrial engineering,volunteeri...  \n",
       "15  [microsoft office,microsoft excel,microsoft po...  \n",
       "16  [google analytics,enterprise resource planning...  \n",
       "17  [sales management,conferences,sales process,cu...  \n",
       "18  [node.js,mongodb,amazon web services (aws),obj...  \n",
       "19  [financial analysis,financial accounting,risk ...  "
      ]
     },
     "execution_count": 156,
     "metadata": {},
     "output_type": "execute_result"
    }
   ],
   "source": [
    "df.head(20)"
   ]
  },
  {
   "cell_type": "markdown",
   "id": "88c7be71",
   "metadata": {},
   "source": [
    "# Question 1"
   ]
  },
  {
   "cell_type": "code",
   "execution_count": 157,
   "id": "2ae6f27a",
   "metadata": {},
   "outputs": [],
   "source": [
    "#to convert the string to list in job_titles column\n",
    "\n",
    "for x in range(len(df['job_titles'])):\n",
    "    ed=df['job_titles'][x].replace(\"[\",\" \")\n",
    "    ed=ed.replace(\"]\",\" \")\n",
    "    ex=list(ed.split(\",\"))\n",
    "    df['job_titles'][x]=ex\n"
   ]
  },
  {
   "cell_type": "code",
   "execution_count": 158,
   "id": "4af2023c",
   "metadata": {},
   "outputs": [],
   "source": [
    "for x in range(len(df['skills'])):\n",
    "    ed=df['skills'][x].replace(\"[\",\" \")\n",
    "    ed=ed.replace(\"]\",\" \")\n",
    "    ex=list(ed.split(\",\"))\n",
    "    df['skills'][x]=ex"
   ]
  },
  {
   "cell_type": "code",
   "execution_count": 159,
   "id": "fdc8a80d",
   "metadata": {},
   "outputs": [],
   "source": [
    "sde_list=[]\n",
    "sde_skill=[]\n",
    "for x in range(len(df['job_titles'])):\n",
    "    for j in df['job_titles'][x]:\n",
    "        if 'software engineer' in j or 'sde' in j or 'software developer' in j:\n",
    "            sde_list.append(j)\n",
    "            sde_skill.append(df['skills'][x])"
   ]
  },
  {
   "cell_type": "code",
   "execution_count": 162,
   "id": "e1286e0c",
   "metadata": {},
   "outputs": [],
   "source": [
    "\n",
    "sde_df = pd.DataFrame(list(zip(sde_list, sde_skill)),columns =['Role', 'Skill'])"
   ]
  },
  {
   "cell_type": "code",
   "execution_count": 164,
   "id": "3fbc7e58",
   "metadata": {},
   "outputs": [
    {
     "data": {
      "text/html": [
       "<div>\n",
       "<style scoped>\n",
       "    .dataframe tbody tr th:only-of-type {\n",
       "        vertical-align: middle;\n",
       "    }\n",
       "\n",
       "    .dataframe tbody tr th {\n",
       "        vertical-align: top;\n",
       "    }\n",
       "\n",
       "    .dataframe thead th {\n",
       "        text-align: right;\n",
       "    }\n",
       "</style>\n",
       "<table border=\"1\" class=\"dataframe\">\n",
       "  <thead>\n",
       "    <tr style=\"text-align: right;\">\n",
       "      <th></th>\n",
       "      <th>Role</th>\n",
       "      <th>Skill</th>\n",
       "    </tr>\n",
       "  </thead>\n",
       "  <tbody>\n",
       "    <tr>\n",
       "      <th>0</th>\n",
       "      <td>software engineer</td>\n",
       "      <td>[ mvc architecture, php, algorithms, software ...</td>\n",
       "    </tr>\n",
       "    <tr>\n",
       "      <th>1</th>\n",
       "      <td>senior software engineer</td>\n",
       "      <td>[ mvc architecture, php, algorithms, software ...</td>\n",
       "    </tr>\n",
       "    <tr>\n",
       "      <th>2</th>\n",
       "      <td>senior software engineer</td>\n",
       "      <td>[ mvc architecture, php, algorithms, software ...</td>\n",
       "    </tr>\n",
       "    <tr>\n",
       "      <th>3</th>\n",
       "      <td>sde ii</td>\n",
       "      <td>[ node.js, react.js, css, angularjs, mongodb, ...</td>\n",
       "    </tr>\n",
       "    <tr>\n",
       "      <th>4</th>\n",
       "      <td>associate software engineer</td>\n",
       "      <td>[ technical project management, engineering ma...</td>\n",
       "    </tr>\n",
       "  </tbody>\n",
       "</table>\n",
       "</div>"
      ],
      "text/plain": [
       "                          Role  \\\n",
       "0            software engineer   \n",
       "1     senior software engineer   \n",
       "2    senior software engineer    \n",
       "3                       sde ii   \n",
       "4  associate software engineer   \n",
       "\n",
       "                                               Skill  \n",
       "0  [ mvc architecture, php, algorithms, software ...  \n",
       "1  [ mvc architecture, php, algorithms, software ...  \n",
       "2  [ mvc architecture, php, algorithms, software ...  \n",
       "3  [ node.js, react.js, css, angularjs, mongodb, ...  \n",
       "4  [ technical project management, engineering ma...  "
      ]
     },
     "execution_count": 164,
     "metadata": {},
     "output_type": "execute_result"
    }
   ],
   "source": [
    "sde_df.head()"
   ]
  },
  {
   "cell_type": "code",
   "execution_count": 170,
   "id": "c96447cb",
   "metadata": {},
   "outputs": [],
   "source": [
    "uq=[]\n",
    "for x in range(len(sde_df['Skill'])):\n",
    "    for j in sde_df[\"Skill\"][x]:\n",
    "        for e in j:\n",
    "            if e not in uq:\n",
    "                uq.append(j)"
   ]
  },
  {
   "cell_type": "code",
   "execution_count": 174,
   "id": "2f22ad6a",
   "metadata": {},
   "outputs": [],
   "source": [
    "max = 0\n",
    "max_arr=[]\n",
    "res = uq[0]\n",
    "for i in uq:\n",
    "    freq = uq.count(i)\n",
    "    if freq > max:\n",
    "        max = freq\n",
    "        res = i\n",
    "        max_arr.append(res)\n",
    "        "
   ]
  },
  {
   "cell_type": "markdown",
   "id": "78b0320a",
   "metadata": {},
   "source": [
    "# Top ten skills required for Software Developer/Software Engineer are"
   ]
  },
  {
   "cell_type": "code",
   "execution_count": 176,
   "id": "238bb21b",
   "metadata": {},
   "outputs": [
    {
     "name": "stdout",
     "output_type": "stream",
     "text": [
      "[' mvc architecture', 'php', 'algorithms', 'java', 'javascript', 'c (programming language)', 'python (programming language) ', 'software development', 'cascading style sheets (css)']\n"
     ]
    }
   ],
   "source": [
    "print(max_arr[-10:])"
   ]
  },
  {
   "cell_type": "markdown",
   "id": "ffdd594f",
   "metadata": {},
   "source": [
    "# Question 2"
   ]
  },
  {
   "cell_type": "code",
   "execution_count": 183,
   "id": "7bb9d1ab",
   "metadata": {},
   "outputs": [],
   "source": [
    "py_list=[]\n",
    "for x in range(len(df['skills'])):\n",
    "    for j in df['skills'][x]:\n",
    "        if 'python' in j :\n",
    "            py_list.append(df['job_titles'][x])"
   ]
  },
  {
   "cell_type": "code",
   "execution_count": 185,
   "id": "19e6e43e",
   "metadata": {},
   "outputs": [],
   "source": [
    "uq=[]\n",
    "for x in range(len(py_list)):\n",
    "    for j in py_list[x]:\n",
    "        for e in j:\n",
    "            if e not in uq:\n",
    "                uq.append(j)"
   ]
  },
  {
   "cell_type": "code",
   "execution_count": 189,
   "id": "2f7aa141",
   "metadata": {},
   "outputs": [],
   "source": [
    "max = 0\n",
    "max_arr=[]\n",
    "res = uq[0]\n",
    "for i in uq:\n",
    "    freq = uq.count(i)\n",
    "    if freq > max:\n",
    "        max = freq\n",
    "        res = i\n",
    "        max_arr.append(res)"
   ]
  },
  {
   "cell_type": "markdown",
   "id": "99c73045",
   "metadata": {},
   "source": [
    "# Job titles which  requires ‘Python’ as the highly sought after skill are "
   ]
  },
  {
   "cell_type": "code",
   "execution_count": 196,
   "id": "b613e780",
   "metadata": {},
   "outputs": [
    {
     "name": "stdout",
     "output_type": "stream",
     "text": [
      "[' sr. sre', 'senior site reliability engineer', 'implementation and off site engineer', ' data analyst', 'summer intern', 'software engineer ']\n"
     ]
    }
   ],
   "source": [
    "print(max_arr[:])"
   ]
  },
  {
   "cell_type": "markdown",
   "id": "73881961",
   "metadata": {},
   "source": [
    "# Question 3"
   ]
  },
  {
   "cell_type": "code",
   "execution_count": 199,
   "id": "fa815b72",
   "metadata": {},
   "outputs": [],
   "source": [
    "react_list=[]\n",
    "for x in range(len(df['skills'])):\n",
    "    for j in df['skills'][x]:\n",
    "        if 'react.js' in j :\n",
    "            react_list.append(df['skills'][x])"
   ]
  },
  {
   "cell_type": "code",
   "execution_count": 201,
   "id": "7c13535e",
   "metadata": {},
   "outputs": [],
   "source": [
    "uq=[]\n",
    "for x in range(len(react_list)):\n",
    "    for j in react_list[x]:\n",
    "        for e in j:\n",
    "            if e not in uq:\n",
    "                uq.append(j)"
   ]
  },
  {
   "cell_type": "code",
   "execution_count": 202,
   "id": "fd9b5551",
   "metadata": {},
   "outputs": [],
   "source": [
    "max=0\n",
    "max_arr=[]\n",
    "res = uq[0]\n",
    "for i in uq:\n",
    "    freq = uq.count(i)\n",
    "    if freq > max:\n",
    "        max = freq\n",
    "        res = i\n",
    "        max_arr.append(res)"
   ]
  },
  {
   "cell_type": "markdown",
   "id": "a75cde85",
   "metadata": {},
   "source": [
    "# Other most popular skills for a professional who knows ‘react.js’ are \n"
   ]
  },
  {
   "cell_type": "code",
   "execution_count": 203,
   "id": "c6a8f6f8",
   "metadata": {},
   "outputs": [
    {
     "name": "stdout",
     "output_type": "stream",
     "text": [
      "[' node.js', 'react.js', 'amazon web services (aws)', 'javascript', 'python (programming language) ', 'cascading style sheets (css)']\n"
     ]
    }
   ],
   "source": [
    "print(max_arr[:])"
   ]
  },
  {
   "cell_type": "markdown",
   "id": "9a06937b",
   "metadata": {},
   "source": [
    "# Question 4"
   ]
  },
  {
   "cell_type": "code",
   "execution_count": 232,
   "id": "d6661528",
   "metadata": {},
   "outputs": [],
   "source": [
    "uq=[]\n",
    "for x in range(len(df['skills'])):\n",
    "    for j in df['skills'][x]:\n",
    "        for e in j:\n",
    "            if e not in uq:\n",
    "                uq.append(j)\n"
   ]
  },
  {
   "cell_type": "code",
   "execution_count": 237,
   "id": "072ae2a2",
   "metadata": {},
   "outputs": [
    {
     "data": {
      "image/png": "[encoded data removed]",
      "text/plain": [
       "<Figure size 640x480 with 1 Axes>"
      ]
     },
     "metadata": {},
     "output_type": "display_data"
    }
   ],
   "source": [
    "max=0\n",
    "max_arr=[]\n",
    "max_skill=[]\n",
    "res = uq[0]\n",
    "for i in range(len(uq)):\n",
    "    freq = uq.count(uq[i])\n",
    "    if freq > max:\n",
    "        max = freq\n",
    "        res = uq[i]\n",
    "        max_arr.append(freq)\n",
    "        max_skill.append(res)\n",
    "        \n",
    "new_df=pd.DataFrame(list(zip(max_skill[-10:],max_arr[-10:])),columns=['Skill','Count'])\n",
    "new_df.plot(x = \"Skill\", y = \"Count\", kind = \"bar\")\n",
    "plt.show()"
   ]
  },
  {
   "cell_type": "markdown",
   "id": "6686f505",
   "metadata": {},
   "source": [
    "### According to the following bar plot we get to know that :\n",
    "### 1.Microsoft Excel\n",
    "### 2.Team Management \n",
    "### 3.Communication\n",
    "### 4.Amazon Web Services (AWS)\n",
    "### 5.Vendor Management\n",
    "### are some of the common skills which people from the IT industry have and Freshers should develop these skills for a better job"
   ]
  },
  {
   "cell_type": "code",
   "execution_count": null,
   "id": "892b6132",
   "metadata": {},
   "outputs": [],
   "source": []
  }
 ],
 "metadata": {
  "kernelspec": {
   "display_name": "Python 3 (ipykernel)",
   "language": "python",
   "name": "python3"
  },
  "language_info": {
   "codemirror_mode": {
    "name": "ipython",
    "version": 3
   },
   "file_extension": ".py",
   "mimetype": "text/x-python",
   "name": "python",
   "nbconvert_exporter": "python",
   "pygments_lexer": "ipython3",
   "version": "3.10.7"
  }
 },
 "nbformat": 4,
 "nbformat_minor": 5
}
